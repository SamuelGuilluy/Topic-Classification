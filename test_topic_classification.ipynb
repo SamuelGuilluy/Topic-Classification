{
 "cells": [
  {
   "cell_type": "code",
   "execution_count": 1,
   "metadata": {},
   "outputs": [],
   "source": [
    "from transformers import AutoTokenizer, AutoModelForSequenceClassification\n",
    "from transformers import TextClassificationPipeline"
   ]
  },
  {
   "cell_type": "code",
   "execution_count": 2,
   "metadata": {},
   "outputs": [],
   "source": [
    "import torch\n",
    "from torch.utils.data import Dataset   "
   ]
  },
  {
   "cell_type": "code",
   "execution_count": 3,
   "metadata": {},
   "outputs": [],
   "source": [
    "loaded_tokenizer = AutoTokenizer.from_pretrained(\"lincoln/flaubert-mlsum-topic-classification\")\n",
    "\n",
    "loaded_model = AutoModelForSequenceClassification.from_pretrained(\"lincoln/flaubert-mlsum-topic-classification\")"
   ]
  },
  {
   "cell_type": "code",
   "execution_count": 7,
   "metadata": {},
   "outputs": [
    {
     "data": {
      "text/plain": [
       "SequenceClassifierOutput(loss=tensor(3.3437, grad_fn=<NllLossBackward0>), logits=tensor([[ 1.5939, -0.4985, -2.0455,  0.0836, -1.6791, -0.2638,  0.7003,  0.5694,\n",
       "          1.4755,  0.2995]], grad_fn=<AddmmBackward0>), hidden_states=None, attentions=None)"
      ]
     },
     "execution_count": 7,
     "metadata": {},
     "output_type": "execute_result"
    }
   ],
   "source": [
    "inputs = loaded_tokenizer(\"Hello, my dog is cute\", return_tensors=\"pt\")\n",
    "labels = torch.tensor([1]).unsqueeze(0)  # Batch size 1\n",
    "\n",
    "loaded_model(**inputs,labels = labels)"
   ]
  },
  {
   "cell_type": "code",
   "execution_count": null,
   "metadata": {},
   "outputs": [],
   "source": [
    "inputs = loaded_tokenizer(\"Hello, my dog is cute\", return_tensors=\"pt\")\n",
    "labels = torch.tensor([1]).unsqueeze(0)  # Batch size 1"
   ]
  },
  {
   "cell_type": "code",
   "execution_count": null,
   "metadata": {},
   "outputs": [],
   "source": [
    "nlp = TextClassificationPipeline(model=loaded_model, tokenizer=loaded_tokenizer)\n",
    "\n",
    "nlp(\"Le Bayern Munich prend la grenadine.\", truncation=True)\n",
    "\n"
   ]
  },
  {
   "cell_type": "code",
   "execution_count": null,
   "metadata": {},
   "outputs": [],
   "source": [
    "outputs = loaded_model(**inputs, labels=labels)"
   ]
  },
  {
   "cell_type": "code",
   "execution_count": null,
   "metadata": {},
   "outputs": [],
   "source": [
    "from custom_dataloader import MyCustomDataset\n",
    "\n",
    "path_to_folder = \"/home/sguilluy/Mining-Argument-Structures/data_preprocessing/from_prodigy/files\"\n",
    "\n",
    "train_dataset = MyCustomDataset(path_to_folder)"
   ]
  },
  {
   "cell_type": "code",
   "execution_count": null,
   "metadata": {},
   "outputs": [],
   "source": [
    "len(train_dataset)"
   ]
  },
  {
   "cell_type": "code",
   "execution_count": null,
   "metadata": {},
   "outputs": [],
   "source": [
    "list_labels = []\n",
    "for ele in train_dataset:\n",
    "    splited_sentence = ele.split(\".\")\n",
    "    #print(splited_sentence)\n",
    "    list_results = nlp(splited_sentence, truncation=False)\n",
    "    for result in list_results:\n",
    "        list_labels.append(result[\"label\"])"
   ]
  },
  {
   "cell_type": "code",
   "execution_count": null,
   "metadata": {},
   "outputs": [],
   "source": [
    "from collections import Counter\n",
    "\n",
    "count_dict = dict(Counter(list_labels).items())\n",
    "\n",
    "print(count_dict)"
   ]
  },
  {
   "cell_type": "code",
   "execution_count": null,
   "metadata": {},
   "outputs": [],
   "source": [
    "from torch.utils.data import DataLoader\n",
    "from transformers import DistilBertForSequenceClassification, AdamW"
   ]
  },
  {
   "cell_type": "code",
   "execution_count": null,
   "metadata": {},
   "outputs": [],
   "source": [
    "device = torch.device('cuda') if torch.cuda.is_available() else torch.device('cpu')\n",
    "\n",
    "model_flaubert_fine_tunned = DistilBertForSequenceClassification.from_pretrained('distilbert-base-uncased')\n",
    "model_flaubert_fine_tunned.to(device)\n",
    "model_flaubert_fine_tunned.train()\n",
    "\n",
    "train_loader = DataLoader(train_dataset, batch_size=16, shuffle=True)\n",
    "\n",
    "optim = AdamW(model_flaubert_fine_tunned.parameters(), lr=5e-5)\n",
    "\n",
    "for epoch in range(3):\n",
    "    for batch in train_loader:\n",
    "        optim.zero_grad()\n",
    "        input_ids = batch['input_ids'].to(device)\n",
    "        attention_mask = batch['attention_mask'].to(device)\n",
    "        labels = batch['labels'].to(device)\n",
    "        outputs = model_flaubert_fine_tunned(input_ids, attention_mask=attention_mask, labels=labels)\n",
    "        loss = outputs[0]\n",
    "        loss.backward()\n",
    "        optim.step()\n",
    "\n",
    "model.eval()"
   ]
  },
  {
   "cell_type": "code",
   "execution_count": null,
   "metadata": {},
   "outputs": [],
   "source": []
  },
  {
   "cell_type": "markdown",
   "metadata": {},
   "source": [
    "# Extending Auto class"
   ]
  },
  {
   "cell_type": "code",
   "execution_count": null,
   "metadata": {},
   "outputs": [],
   "source": [
    "from transformers import AutoConfig, AutoModel\n",
    "\n",
    "config_flaubert = AutoConfig.from_pretrained(\"lincoln/flaubert-mlsum-topic-classification\")\n",
    "\n",
    "AutoConfig.register(\"config_flaubert\", config_flaubert)\n",
    "\n",
    "AutoModel.register(config_flaubert, model_flaubert_fine_tunned)\n"
   ]
  }
 ],
 "metadata": {
  "interpreter": {
   "hash": "3b47370d360718e3a071b8c1bbdb56afd016411914eeb44bcd46e846744c9388"
  },
  "kernelspec": {
   "display_name": "Python 3.6.9 64-bit ('argument_env': venv)",
   "language": "python",
   "name": "python3"
  },
  "language_info": {
   "codemirror_mode": {
    "name": "ipython",
    "version": 3
   },
   "file_extension": ".py",
   "mimetype": "text/x-python",
   "name": "python",
   "nbconvert_exporter": "python",
   "pygments_lexer": "ipython3",
   "version": "3.6.9"
  },
  "orig_nbformat": 4
 },
 "nbformat": 4,
 "nbformat_minor": 2
}
